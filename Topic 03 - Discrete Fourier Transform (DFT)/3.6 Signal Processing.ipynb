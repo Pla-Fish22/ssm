{
 "cells": [
  {
   "cell_type": "code",
   "execution_count": null,
   "id": "c2d2bf05",
   "metadata": {},
   "outputs": [],
   "source": [
    "import numpy as np\n",
    "import matplotlib.pyplot as plt"
   ]
  },
  {
   "cell_type": "markdown",
   "id": "6fe909b8",
   "metadata": {},
   "source": [
    "### 3.6 Signal Processing\n",
    "\n",
    "Fourier Transform gives us ability to view our data in a completely different perspective, which is the data in time-domain to its frequency domain. Knowing the frequency domain allow us to understand about the frequency component with in the data. This opens a number of opportunities to process the data in many ways.\n",
    "\n",
    "One of the application that we will be using in the topic is the noise reduction example. The data collected usaully contains unwanted noise, which we can filter out easily in the frequency domain. Once the noise frequency has been removed, we can perform an inverse Fourier Transform or Discrete Fourier Transform to obtain the cleaned signal."
   ]
  },
  {
   "cell_type": "markdown",
   "id": "14d14c36",
   "metadata": {},
   "source": [
    "___\n",
    "#### Removing Noise from Data\n",
    "\n",
    "Example below is from https://towardsdatascience.com/clean-up-data-noise-with-fourier-transform-in-python-7480252fd9c9"
   ]
  },
  {
   "cell_type": "code",
   "execution_count": null,
   "id": "6caf87bd",
   "metadata": {},
   "outputs": [],
   "source": [
    "#Create a simple signal with two frequencies\n",
    "data_step = 0.001\n",
    "t = np.arange(start=0,stop=1,step=data_step)\n",
    "f_clean = np.sin(2*np.pi*50*t) + np.sin(2*np.pi*120*t)\n",
    "f_noise = f_clean + 2.5*np.random.randn(len(t))\n",
    "plt.plot(t, f_noise, label='Noisy')\n",
    "plt.plot(t, f_clean, label='Clean')\n",
    "plt.legend()"
   ]
  },
  {
   "cell_type": "code",
   "execution_count": null,
   "id": "2591f610",
   "metadata": {},
   "outputs": [],
   "source": []
  },
  {
   "cell_type": "code",
   "execution_count": null,
   "id": "e0fa2f8e",
   "metadata": {},
   "outputs": [],
   "source": []
  },
  {
   "cell_type": "code",
   "execution_count": null,
   "id": "82c8d8da",
   "metadata": {},
   "outputs": [],
   "source": []
  },
  {
   "cell_type": "code",
   "execution_count": null,
   "id": "a4acb41c",
   "metadata": {},
   "outputs": [],
   "source": []
  },
  {
   "cell_type": "markdown",
   "id": "27fb34e0",
   "metadata": {},
   "source": [
    "___\n",
    "#### Removing Audio Noise\n"
   ]
  },
  {
   "cell_type": "code",
   "execution_count": null,
   "id": "ba6a867a",
   "metadata": {},
   "outputs": [],
   "source": [
    "from scipy.io import wavfile\n",
    "freq, y = wavfile.read('images/samples_original_sample1.wav')\n",
    "dt = 1/freq\n",
    "t = np.linspace(0, (len(y)-1)*dt, len(y))\n",
    "plt.plot(t, y, label='Original')\n",
    "plt.title('Time Domain')\n",
    "plt.legend()"
   ]
  },
  {
   "cell_type": "code",
   "execution_count": null,
   "id": "ab2f0501",
   "metadata": {},
   "outputs": [],
   "source": []
  },
  {
   "cell_type": "code",
   "execution_count": null,
   "id": "e6d60904",
   "metadata": {},
   "outputs": [],
   "source": []
  },
  {
   "cell_type": "code",
   "execution_count": null,
   "id": "915d356a",
   "metadata": {},
   "outputs": [],
   "source": []
  },
  {
   "cell_type": "code",
   "execution_count": null,
   "id": "61814fcf",
   "metadata": {},
   "outputs": [],
   "source": []
  },
  {
   "cell_type": "code",
   "execution_count": null,
   "id": "6c25976d",
   "metadata": {},
   "outputs": [],
   "source": []
  },
  {
   "cell_type": "code",
   "execution_count": null,
   "id": "9bae4a14",
   "metadata": {},
   "outputs": [],
   "source": [
    "wavfile.write('samples_noise_reduced.wav', freq, np.array(new_f_clean, dtype=np.int16))"
   ]
  },
  {
   "cell_type": "code",
   "execution_count": null,
   "id": "117b774b",
   "metadata": {},
   "outputs": [],
   "source": [
    "y"
   ]
  },
  {
   "cell_type": "code",
   "execution_count": null,
   "id": "7d07069e",
   "metadata": {},
   "outputs": [],
   "source": [
    "np.array(new_f_clean, dtype=np.int16)"
   ]
  },
  {
   "cell_type": "code",
   "execution_count": null,
   "id": "b7f25a44",
   "metadata": {},
   "outputs": [],
   "source": []
  }
 ],
 "metadata": {
  "kernelspec": {
   "display_name": "Python 3",
   "language": "python",
   "name": "python3"
  },
  "language_info": {
   "codemirror_mode": {
    "name": "ipython",
    "version": 3
   },
   "file_extension": ".py",
   "mimetype": "text/x-python",
   "name": "python",
   "nbconvert_exporter": "python",
   "pygments_lexer": "ipython3",
   "version": "3.8.8"
  }
 },
 "nbformat": 4,
 "nbformat_minor": 5
}
