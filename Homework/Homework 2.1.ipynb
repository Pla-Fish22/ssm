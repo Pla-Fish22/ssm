{
 "cells": [
  {
   "cell_type": "markdown",
   "metadata": {
    "collapsed": true
   },
   "source": [
    "### Homework 2.1.1 - 1D Wave\n",
    "\n",
    "Solve the wave equation\n",
    "\n",
    "$$\\frac{{{\\partial ^2}u}}{{\\partial {t^2}}} = c^2 \\frac{{{\\partial ^2}u}}{{\\partial {x^2}}}$$\n",
    "\n",
    "subjected to the **feeding wave boundary condition** at $x = 0$,\n",
    "\n",
    "$$u(0, t) = 2\\sin(\\omega t)$$\n",
    "\n",
    "and the boundary condition on the other end, $x = L$ is an **open boundary condition**.\n",
    "\n",
    "where $L = 1$ and the initial condition at $t=0$ is:\n",
    "\n",
    "$$u(x, 0) = 0$$\n",
    "\n",
    "You choose appropreate values of **the speed ($c$)** and **the frequency ($\\omega$)** to make a nice time-animated graph video clip."
   ]
  },
  {
   "cell_type": "code",
   "execution_count": 1,
   "metadata": {},
   "outputs": [],
   "source": [
    "import numpy as np\n",
    "import matplotlib.pyplot as plt\n",
    "import matplotlib.animation as animation"
   ]
  },
  {
   "cell_type": "code",
   "execution_count": 3,
   "metadata": {},
   "outputs": [
    {
     "data": {
      "image/png": "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\n",
      "text/plain": [
       "<Figure size 432x288 with 1 Axes>"
      ]
     },
     "metadata": {
      "needs_background": "light"
     },
     "output_type": "display_data"
    }
   ],
   "source": [
    "# Set up an array of ux0\n",
    "x = np.linspace(0, 1., num=101, endpoint=True)\n",
    "Ux0 = 0*x\n",
    "\n",
    "# ensuring both ends are fixed at zero\n",
    "Ux0[0] = 0\n",
    "Ux0[100] = 0\n",
    "\n",
    "Uold = Ux0\n",
    "# Set up initial condition for the time derivative at t = 0\n",
    "dUx0 = np.zeros(101)\n",
    "\n",
    "dt = 0.01 # Set up time step size\n",
    "dh = 0.01 # Spatial step size\n",
    "c = 1\n",
    "omega = 0.7\n",
    "eps = ((dt*c/dh)**2)\n",
    "\n",
    "\n",
    "# Calculate time step j = 1\n",
    "Uxt = np.zeros(101)\n",
    "for i in np.linspace(1, 99, 99, dtype=int):\n",
    "       Uxt[i] = 0.5*eps*(Ux0[i+1] + Ux0[i-1]) + (1. - eps)*(Ux0[i]) + dt * dUx0[i]  \n",
    "        \n",
    "UAll = np.array([Uxt])\n",
    "fig1 = plt.figure()\n",
    "l = plt.plot(x, Uxt)\n",
    "axes = plt.gca()\n",
    "axes.set_ylim([-1,1])\n",
    "\n",
    "for t in range(200):\n",
    "    Unew = np.zeros(101)\n",
    "    for i in np.linspace(1, 99, 99, dtype=int):\n",
    "        Unew[i] = eps*(Uxt[i+1] + Uxt[i-1]) + 2.*(1. - eps)*Uxt[i] - Uold[i] \n",
    "        \n",
    "    Unew[0] = 2*np.sin(omega*t*dt) #feeding wave condition      \n",
    "    Unew[100] = Uxt[100] - c *(Uxt[100] - Uxt[100-1]) #open boundary condition \n",
    "    Uold =Uxt\n",
    "    Uxt = Unew\n",
    "    UAll = np.vstack([UAll, Unew])\n",
    "\n",
    "\n",
    "        \n",
    "def update_line(num, line):\n",
    "    line.set_data(x, UAll[num])\n",
    "    return line,\n",
    "\n",
    "line_ani = animation.FuncAnimation(fig1, update_line, 200, fargs=(l), interval=20, blit=True)\n",
    "# line_ani.save('wave-in-string.mp4', fps=30, extra_args=['-vcodec', 'libx264'])\n",
    "writergif = animation.PillowWriter(fps=30)\n",
    "line_ani.save('1DWave.gif',writer=writergif)\n",
    "plt.show()"
   ]
  },
  {
   "cell_type": "markdown",
   "metadata": {
    "collapsed": true
   },
   "source": [
    "___\n",
    "### Homework 2.1.2 - 1D Wave with damping\n",
    "\n",
    "Solve the wave equation\n",
    "\n",
    "$$\\frac{\\partial^2 u}{\\partial t^2} = c^2 \\frac{\\partial^2 u}{\\partial x^2} - k \\frac{\\partial u}{\\partial t}$$\n",
    "\n",
    "subjected to the **feeding wave boundary condition** at $x = 0$,\n",
    "\n",
    "$$u(0, t) = 2\\sin(\\omega t)$$\n",
    "\n",
    "and the boundary condition on the other end, $x = L$ is an **open boundary condition**.\n",
    "\n",
    "where $L = 1$ and the initial condition at $t=0$ is:\n",
    "\n",
    "$$u(x, 0) = 0$$\n",
    "\n",
    "You choose appropreate values of **the speed ($c$)**, **the frequency ($\\omega$)**, and **the damping factor ($k$)** to make a nice time-animated graph video clip."
   ]
  },
  {
   "cell_type": "code",
   "execution_count": 9,
   "metadata": {},
   "outputs": [
    {
     "data": {
      "image/png": "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\n",
      "text/plain": [
       "<Figure size 432x288 with 1 Axes>"
      ]
     },
     "metadata": {
      "needs_background": "light"
     },
     "output_type": "display_data"
    }
   ],
   "source": [
    "# Set up an array of ux0\n",
    "x = np.linspace(0, 1., num=101, endpoint=True)\n",
    "Ux0 = 0*x\n",
    "\n",
    "# ensuring both ends are fixed at zero\n",
    "Ux0[0] = 0\n",
    "Ux0[100] = 0\n",
    "\n",
    "Uold = Ux0\n",
    "# Set up initial condition for the time derivative at t = 0\n",
    "dUx0 = np.zeros(101)\n",
    "\n",
    "dt = 0.01 # Set up time step size\n",
    "dh = 0.01 # Spatial step size\n",
    "c = 1\n",
    "omega = 0.25\n",
    "eps = ((dt*c/dh)**2)\n",
    "k = 3\n",
    "\n",
    "\n",
    "# Calculate time step j = 1\n",
    "Uxt = np.zeros(101)\n",
    "for i in np.linspace(1, 99, 99, dtype=int):\n",
    "       Uxt[i] = 0.5*eps*(Ux0[i+1] + Ux0[i-1]) + (1. - eps)*(Ux0[i]) + dt * dUx0[i]  \n",
    "        \n",
    "UAll = np.array([Uxt])\n",
    "fig1 = plt.figure()\n",
    "l = plt.plot(x, Uxt)\n",
    "axes = plt.gca()\n",
    "axes.set_ylim([-3,3])\n",
    "\n",
    "for t in range(200):\n",
    "    Unew = np.zeros(101)\n",
    "    for i in np.linspace(1, 99, 99, dtype=int):\n",
    "        A = 2*eps*(Uxt[i+1]-2*Uxt[i]+Uxt[i-1])\n",
    "        B = 4*Uxt[i] - (2-k*dt)*Uold[i]\n",
    "        Unew[i] = (A+B)/(2+k*dt)\n",
    "        \n",
    "    Unew[0] = 2*np.sin(omega*t) #feeding wave condition      \n",
    "    Unew[100] = Uxt[100] - c *(Uxt[100] - Uxt[100-1]) #open boundary condition \n",
    "    Uold =Uxt\n",
    "    Uxt = Unew\n",
    "    UAll = np.vstack([UAll, Unew])\n",
    "\n",
    "\n",
    "        \n",
    "def update_line(num, line):\n",
    "    line.set_data(x, UAll[num])\n",
    "    return line,\n",
    "\n",
    "line_ani = animation.FuncAnimation(fig1, update_line, 200, fargs=(l), interval=20, blit=True)\n",
    "# line_ani.save('wave-in-string.mp4', fps=30, extra_args=['-vcodec', 'libx264'])\n",
    "writergif = animation.PillowWriter(fps=30)\n",
    "line_ani.save('1DWave_with_Damping.gif',writer=writergif)\n",
    "plt.show()"
   ]
  },
  {
   "cell_type": "code",
   "execution_count": null,
   "metadata": {},
   "outputs": [],
   "source": []
  },
  {
   "cell_type": "code",
   "execution_count": null,
   "metadata": {},
   "outputs": [],
   "source": []
  }
 ],
 "metadata": {
  "kernelspec": {
   "display_name": "Python 3",
   "language": "python",
   "name": "python3"
  },
  "language_info": {
   "codemirror_mode": {
    "name": "ipython",
    "version": 3
   },
   "file_extension": ".py",
   "mimetype": "text/x-python",
   "name": "python",
   "nbconvert_exporter": "python",
   "pygments_lexer": "ipython3",
<<<<<<< HEAD
   "version": "3.9.7"
=======
   "version": "3.7.4"
>>>>>>> submission
  }
 },
 "nbformat": 4,
 "nbformat_minor": 1
}
