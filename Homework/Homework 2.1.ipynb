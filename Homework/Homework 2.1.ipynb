{
 "cells": [
  {
   "cell_type": "markdown",
   "metadata": {
    "collapsed": true
   },
   "source": [
    "### Homework 2.1.1 - 1D Wave\n",
    "\n",
    "Solve the wave equation\n",
    "\n",
    "$$\\frac{{{\\partial ^2}u}}{{\\partial {t^2}}} = c^2 \\frac{{{\\partial ^2}u}}{{\\partial {x^2}}}$$\n",
    "\n",
    "subjected to the **feeding wave boundary condition** at $x = 0$,\n",
    "\n",
    "$$u(0, t) = 2\\sin(\\omega t)$$\n",
    "\n",
    "and the boundary condition on the other end, $x = L$ is an **open boundary condition**.\n",
    "\n",
    "where $L = 1$ and the initial condition at $t=0$ is:\n",
    "\n",
    "$$u(x, 0) = 0$$\n",
    "\n",
    "You choose appropreate values of **the speed ($c$)** and **the frequency ($\\omega$)** to make a nice time-animated graph video clip."
   ]
  },
  {
   "cell_type": "code",
   "execution_count": 1,
   "metadata": {},
   "outputs": [],
   "source": [
    "import numpy as np\n",
    "import matplotlib.pyplot as plt\n",
    "import matplotlib.animation as animation"
   ]
  },
  {
   "cell_type": "code",
   "execution_count": 2,
   "metadata": {},
   "outputs": [
    {
     "data": {
      "image/png": "[encoded data removed]",
      "text/plain": [
       "<Figure size 432x288 with 1 Axes>"
      ]
     },
     "metadata": {
      "needs_background": "light"
     },
     "output_type": "display_data"
    }
   ],
   "source": [
    "# Set up an array of ux0\n",
    "x = np.linspace(0, 1., num=101, endpoint=True)\n",
    "Ux0 = 0*x\n",
    "\n",
    "# ensuring both ends are fixed at zero\n",
    "Ux0[0] = 0\n",
    "Ux0[100] = 0\n",
    "\n",
    "Uold = Ux0\n",
    "# Set up initial condition for the time derivative at t = 0\n",
    "dUx0 = np.zeros(101)\n",
    "\n",
    "dt = 0.01 # Set up time step size\n",
    "dh = 0.01 # Spatial step size\n",
    "c = 1\n",
    "omega = 0.1\n",
    "eps = ((dt*c/dh)**2)\n",
    "\n",
    "\n",
    "# Calculate time step j = 1\n",
    "Uxt = np.zeros(101)\n",
    "for i in np.linspace(1, 99, 99, dtype=int):\n",
    "       Uxt[i] = 0.5*eps*(Ux0[i+1] + Ux0[i-1]) + (1. - eps)*(Ux0[i]) + dt * dUx0[i]  \n",
    "        \n",
    "UAll = np.array([Uxt])\n",
    "fig1 = plt.figure()\n",
    "l = plt.plot(x, Uxt)\n",
    "axes = plt.gca()\n",
    "axes.set_ylim([-3,3])\n",
    "\n",
    "for t in range(200):\n",
    "    Unew = np.zeros(101)\n",
    "    for i in np.linspace(1, 99, 99, dtype=int):\n",
    "        Unew[i] = eps*(Uxt[i+1] + Uxt[i-1]) + 2.*(1. - eps)*Uxt[i] - Uold[i] \n",
    "        \n",
    "    Unew[0] = 2*np.sin(omega*t) #feeding wave condition      \n",
    "    Unew[100] = Uxt[100] - c *(Uxt[100] - Uxt[100-1]) #open boundary condition \n",
    "    Uold =Uxt\n",
    "    Uxt = Unew\n",
    "    UAll = np.vstack([UAll, Unew])\n",
    "\n",
    "\n",
    "        \n",
    "def update_line(num, line):\n",
    "    line.set_data(x, UAll[num])\n",
    "    return line,\n",
    "\n",
    "line_ani = animation.FuncAnimation(fig1, update_line, 200, fargs=(l), interval=20, blit=True)\n",
    "# line_ani.save('wave-in-string.mp4', fps=30, extra_args=['-vcodec', 'libx264'])\n",
    "writergif = animation.PillowWriter(fps=30)\n",
    "line_ani.save('1DWave.gif',writer=writergif)\n",
    "plt.show()"
   ]
  },
  {
   "cell_type": "markdown",
   "metadata": {
    "collapsed": true
   },
   "source": [
    "___\n",
    "### Homework 2.1.2 - 1D Wave with damping\n",
    "\n",
    "Solve the wave equation\n",
    "\n",
    "$$\\frac{\\partial^2 u}{\\partial t^2} = c^2 \\frac{\\partial^2 u}{\\partial x^2} - k \\frac{\\partial u}{\\partial t}$$\n",
    "\n",
    "subjected to the **feeding wave boundary condition** at $x = 0$,\n",
    "\n",
    "$$u(0, t) = 2\\sin(\\omega t)$$\n",
    "\n",
    "and the boundary condition on the other end, $x = L$ is an **open boundary condition**.\n",
    "\n",
    "where $L = 1$ and the initial condition at $t=0$ is:\n",
    "\n",
    "$$u(x, 0) = 0$$\n",
    "\n",
    "You choose appropreate values of **the speed ($c$)**, **the frequency ($\\omega$)**, and **the damping factor ($k$)** to make a nice time-animated graph video clip."
   ]
  },
  {
   "cell_type": "code",
   "execution_count": 9,
   "metadata": {},
   "outputs": [
    {
     "data": {
      "image/png": "[encoded data removed]",
      "text/plain": [
       "<Figure size 432x288 with 1 Axes>"
      ]
     },
     "metadata": {
      "needs_background": "light"
     },
     "output_type": "display_data"
    }
   ],
   "source": [
    "# Set up an array of ux0\n",
    "x = np.linspace(0, 1., num=101, endpoint=True)\n",
    "Ux0 = 0*x\n",
    "\n",
    "# ensuring both ends are fixed at zero\n",
    "Ux0[0] = 0\n",
    "Ux0[100] = 0\n",
    "\n",
    "Uold = Ux0\n",
    "# Set up initial condition for the time derivative at t = 0\n",
    "dUx0 = np.zeros(101)\n",
    "\n",
    "dt = 0.01 # Set up time step size\n",
    "dh = 0.01 # Spatial step size\n",
    "c = 1\n",
    "omega = 0.25\n",
    "eps = ((dt*c/dh)**2)\n",
    "k = 3\n",
    "\n",
    "\n",
    "# Calculate time step j = 1\n",
    "Uxt = np.zeros(101)\n",
    "for i in np.linspace(1, 99, 99, dtype=int):\n",
    "       Uxt[i] = 0.5*eps*(Ux0[i+1] + Ux0[i-1]) + (1. - eps)*(Ux0[i]) + dt * dUx0[i]  \n",
    "        \n",
    "UAll = np.array([Uxt])\n",
    "fig1 = plt.figure()\n",
    "l = plt.plot(x, Uxt)\n",
    "axes = plt.gca()\n",
    "axes.set_ylim([-3,3])\n",
    "\n",
    "for t in range(200):\n",
    "    Unew = np.zeros(101)\n",
    "    for i in np.linspace(1, 99, 99, dtype=int):\n",
    "        A = 2*eps*(Uxt[i+1]-2*Uxt[i]+Uxt[i-1])\n",
    "        B = 4*Uxt[i] - (2-k*dt)*Uold[i]\n",
    "        Unew[i] = (A+B)/(2+k*dt)\n",
    "        \n",
    "    Unew[0] = 2*np.sin(omega*t) #feeding wave condition      \n",
    "    Unew[100] = Uxt[100] - c *(Uxt[100] - Uxt[100-1]) #open boundary condition \n",
    "    Uold =Uxt\n",
    "    Uxt = Unew\n",
    "    UAll = np.vstack([UAll, Unew])\n",
    "\n",
    "\n",
    "        \n",
    "def update_line(num, line):\n",
    "    line.set_data(x, UAll[num])\n",
    "    return line,\n",
    "\n",
    "line_ani = animation.FuncAnimation(fig1, update_line, 200, fargs=(l), interval=20, blit=True)\n",
    "# line_ani.save('wave-in-string.mp4', fps=30, extra_args=['-vcodec', 'libx264'])\n",
    "writergif = animation.PillowWriter(fps=30)\n",
    "line_ani.save('1DWave_with_Damping.gif',writer=writergif)\n",
    "plt.show()"
   ]
  },
  {
   "cell_type": "code",
   "execution_count": null,
   "metadata": {},
   "outputs": [],
   "source": []
  },
  {
   "cell_type": "code",
   "execution_count": null,
   "metadata": {},
   "outputs": [],
   "source": []
  }
 ],
 "metadata": {
  "kernelspec": {
   "display_name": "Python 3",
   "language": "python",
   "name": "python3"
  },
  "language_info": {
   "codemirror_mode": {
    "name": "ipython",
    "version": 3
   },
   "file_extension": ".py",
   "mimetype": "text/x-python",
   "name": "python",
   "nbconvert_exporter": "python",
   "pygments_lexer": "ipython3",
   "version": "3.7.4"
  }
 },
 "nbformat": 4,
 "nbformat_minor": 1
}
