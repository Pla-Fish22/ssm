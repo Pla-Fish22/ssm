{
 "cells": [
  {
   "cell_type": "markdown",
   "metadata": {},
   "source": [
    "### Homework 2.2 - Heat Transfer\n",
    "\n",
    "Use the finite differential method to solve a heat transfer equation, given by\n",
    "\n",
    "$$ \\frac{{\\partial T}}{{\\partial t}} = k\\frac{{{\\partial ^2}T}}{{\\partial {x^2}}} $$\n",
    "\n",
    "where $T(t, x)$ is the temperature distribution function.\n",
    "\n",
    "Solve the equation for $x$ between 0 and 1. At $x=0$ the temperature varies as $T(t,0)=sin(10t)$ and at At $x=1$ the temperature varies as $T(t,0)=e^{ - 100 (t - 0.15)^2}$.\n",
    "\n",
    "Make the animated clip of the temperature distribution function evolution. Pick appropriate time range."
   ]
  },
  {
   "cell_type": "code",
   "execution_count": 2,
   "metadata": {},
   "outputs": [],
   "source": [
    "import numpy as np\n",
    "import matplotlib.pyplot as plt\n",
    "import matplotlib.animation as animation"
   ]
  },
  {
   "cell_type": "code",
   "execution_count": 29,
   "metadata": {},
   "outputs": [
    {
     "data": {
      "image/png": "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\n",
      "text/plain": [
       "<Figure size 432x288 with 1 Axes>"
      ]
     },
     "metadata": {
      "needs_background": "light"
     },
     "output_type": "display_data"
    }
   ],
   "source": [
    "# Set up an array of Tt0\n",
    "t = np.linspace(0, 1., num= 45, endpoint=True)\n",
    "Tt0 = 0*t\n",
    "\n",
    "# ensuring both ends are fixed at zero\n",
    "Tt0[0] = 0\n",
    "Tt0[44] = 0\n",
    "\n",
    "Told = Tt0\n",
    "# Set up initial condition for the time derivative at t = 0\n",
    "dTt0 = np.zeros(45)\n",
    "\n",
    "dt = 0.001 # Set up time step size\n",
    "dh = 1 / 45  # Spatial step size\n",
    "k =  0.2\n",
    "eps =  k * (dt/(dh**2))\n",
    "\n",
    "\n",
    "# Calculate time step j = 1\n",
    "Ttx = np.zeros(45)\n",
    "for i in np.linspace(1, 43, 43, dtype=int):\n",
    "       Ttx[i] = 0.5*eps*(Tt0[i+1] + Tt0[i-1]) + (1. - eps)*(Tt0[i]) + dt * dTt0[i]  \n",
    "        \n",
    "TAll = np.array([Ttx])\n",
    "fig1 = plt.figure()\n",
    "l = plt.plot(t, Ttx)\n",
    "axes = plt.gca()\n",
    "axes.set_ylim([-1,1])\n",
    "\n",
    "for j in range(1000):\n",
    "    Tnew = np.zeros(45)\n",
    "    for i in np.linspace(1, 43, 43, dtype=int):\n",
    "        Tnew[i] = eps*(Ttx[i + 1] - 2*(Ttx[i]) + Ttx[i-1]) + Ttx[i]\n",
    "        \n",
    "    Tnew[0] = np.sin(10*(j*dt))       \n",
    "    Tnew[44] = np.exp(-100*((j*dt)-0.15)**2) \n",
    "    Told = Ttx\n",
    "    Ttx = Tnew\n",
    "    TAll = np.vstack([TAll, Tnew])\n",
    "\n",
    "\n",
    "        \n",
    "def update_line(num, line):\n",
    "    line.set_data(t, TAll[num])\n",
    "    return line,\n",
    "\n",
    "line_ani = animation.FuncAnimation(fig1, update_line, 1000, fargs=(l), interval=20, blit=True)\n",
    "# line_ani.save('wave-in-string.mp4', fps=30, extra_args=['-vcodec', 'libx264'])\n",
    "writergif = animation.PillowWriter(fps=60)\n",
    "line_ani.save('Heat_transfer.gif',writer=writergif)\n",
    "plt.show()"
   ]
  },
  {
   "cell_type": "code",
   "execution_count": null,
<<<<<<< HEAD
   "id": "372ae843",
=======
>>>>>>> submission
   "metadata": {},
   "outputs": [],
   "source": []
  }
 ],
 "metadata": {
  "kernelspec": {
   "display_name": "Python 3",
   "language": "python",
   "name": "python3"
  },
  "language_info": {
   "codemirror_mode": {
    "name": "ipython",
    "version": 3
   },
   "file_extension": ".py",
   "mimetype": "text/x-python",
   "name": "python",
   "nbconvert_exporter": "python",
   "pygments_lexer": "ipython3",
   "version": "3.7.4"
  }
 },
 "nbformat": 4,
 "nbformat_minor": 5
}
