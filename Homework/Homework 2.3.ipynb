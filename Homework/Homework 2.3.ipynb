{
 "cells": [
  {
   "cell_type": "markdown",
   "metadata": {},
   "source": [
    "### Homework 2.3 - 2D Temperature Distribution\n",
    "\n",
    "Solve 2D heat equation for the following initial conditions:\n",
    "\n",
    "$$\\begin{array}{l}\n",
    "u(x,0) = \\sin (2\\pi x)\\\\\n",
    "u(x,1) = \\sin (2\\pi x)\\\\\n",
    "u(0,y) = \\sin (3\\pi x)\\\\\n",
    "u(1,y) = \\sin (\\pi x)\n",
    "\\end{array}$$\n",
    "\n",
    "where $u(x, y)$ represent the steady state temperature distribution on 2D plane.\n",
    " \n",
    "Plot the 2D heat map of the solution."
   ]
  },
  {
   "cell_type": "code",
   "execution_count": 24,
   "metadata": {},
   "outputs": [],
   "source": [
    "import numpy as np\n",
    "import matplotlib.pyplot as plt\n",
    "import matplotlib.animation as animation\n",
    "import math "
   ]
  },
  {
   "cell_type": "code",
   "execution_count": 25,
   "metadata": {},
   "outputs": [],
   "source": [
    "#boundaries \n",
    "\n",
    "\n",
    "d = 100 \n",
    "x = np.linspace(0, 1, d)\n",
    "\n",
    "conv = 0.00001\n",
    "\n",
    "times_of_iteration = 1002\n",
    "diff = conv + 1\n",
    "\n",
    "u = np.zeros((d , d))\n",
    "\n",
    "\n",
    "u[:,0] = np.sin(2*np.pi*x)\n",
    "u[:,d - 1] = np.sin(2*np.pi*x)\n",
    "u[0,:] = np.sin(3*np.pi*x)\n",
    "u[d - 1,:] = np.sin(np.pi*x)\n",
    "\n",
    "\n",
    "\n"
   ]
  },
  {
   "cell_type": "code",
   "execution_count": 26,
   "metadata": {},
   "outputs": [
    {
     "data": {
      "text/plain": [
       "4.5679513646752635e-05"
      ]
     },
     "execution_count": 26,
     "metadata": {},
     "output_type": "execute_result"
    }
   ],
   "source": [
    "for time in range(0, times_of_iteration):\n",
    "    if(diff < conv):\n",
    "        break;\n",
    "    diff = 0.0 \n",
    "    tempu = u.copy()\n",
    "    for i in range(1, d - 1):\n",
    "        for j in range(1, d -1):\n",
    "            u[i, j] = (1/4)*(sum([tempu[i + 1, j], \n",
    "                                 tempu[i - 1, j],\n",
    "                                 tempu[i, j + 1],\n",
    "                                 tempu[i, j - 1]]))\n",
    "            diff += math.fabs(u[i,j] - tempu[i,j])\n",
    "            \n",
    "    diff /=(d**2)\n",
    "diff   "
   ]
  },
  {
   "cell_type": "code",
   "execution_count": 27,
   "metadata": {},
   "outputs": [
    {
     "data": {
      "image/png": "[encoded data removed]",
      "text/plain": [
       "<Figure size 432x288 with 1 Axes>"
      ]
     },
     "metadata": {
      "needs_background": "light"
     },
     "output_type": "display_data"
    }
   ],
   "source": [
    "plt.imshow(u, cmap=\"hot\")\n",
    "plt.show()"
   ]
  },
  {
   "cell_type": "code",
   "execution_count": null,
   "metadata": {},
   "outputs": [],
   "source": []
  }
 ],
 "metadata": {
  "kernelspec": {
   "display_name": "Python 3",
   "language": "python",
   "name": "python3"
  },
  "language_info": {
   "codemirror_mode": {
    "name": "ipython",
    "version": 3
   },
   "file_extension": ".py",
   "mimetype": "text/x-python",
   "name": "python",
   "nbconvert_exporter": "python",
   "pygments_lexer": "ipython3",
   "version": "3.7.4"
  }
 },
 "nbformat": 4,
 "nbformat_minor": 5
}
